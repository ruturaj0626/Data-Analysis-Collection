{
 "cells": [
  {
   "cell_type": "markdown",
   "metadata": {},
   "source": [
    "## Getting Started with Keras"
   ]
  },
  {
   "cell_type": "code",
   "execution_count": 1,
   "metadata": {
    "collapsed": true
   },
   "outputs": [],
   "source": [
    "#### from: https://keras.io/getting-started/sequential-model-guide/"
   ]
  },
  {
   "cell_type": "code",
   "execution_count": 41,
   "metadata": {
    "collapsed": false
   },
   "outputs": [],
   "source": [
    "from keras.models import Sequential\n",
    "from keras.layers import Dense, Activation"
   ]
  },
  {
   "cell_type": "code",
   "execution_count": 42,
   "metadata": {
    "collapsed": true
   },
   "outputs": [],
   "source": [
    "model = Sequential([\n",
    "    Dense(32, input_dim=784), # specify input shape; other layers' shapes configure themselves\n",
    "    Activation('relu'),\n",
    "    Dense(10),\n",
    "    Activation('softmax')\n",
    "])"
   ]
  },
  {
   "cell_type": "markdown",
   "metadata": {},
   "source": [
    "### The Merge Layer"
   ]
  },
  {
   "cell_type": "code",
   "execution_count": 43,
   "metadata": {
    "collapsed": true
   },
   "outputs": [],
   "source": [
    "# multiple sequential instances can be merged into a single output via merge, e.g.: \n",
    "from keras.layers import Merge\n",
    "\n",
    "left_branch = Sequential()\n",
    "left_branch.add(Dense(32, input_dim=784))\n",
    "\n",
    "right_branch = Sequential()\n",
    "right_branch.add(Dense(32, input_dim=784))\n",
    "\n",
    "merged = Merge([left_branch, right_branch], mode='concat')\n",
    "\n",
    "final_model = Sequential()\n",
    "final_model.add(merged)\n",
    "final_model.add(Dense(10, activation='softmax'))"
   ]
  },
  {
   "cell_type": "code",
   "execution_count": 45,
   "metadata": {
    "collapsed": false
   },
   "outputs": [],
   "source": [
    "# such a two-branch model can be trained via, e.g.:\n",
    "final_model.compile(optimizer='rmsprop', loss='categorical_crossentropy')\n",
    "# final_model.fit([input_data_1, input_data_2], targets)"
   ]
  },
  {
   "cell_type": "markdown",
   "metadata": {},
   "source": [
    "### Compilation"
   ]
  },
  {
   "cell_type": "code",
   "execution_count": 46,
   "metadata": {
    "collapsed": true
   },
   "outputs": [],
   "source": [
    "# before training a moel, need to configure learning process with 'compile' method, which has three arguments:\n",
    "# (1.) optimizer (e.g., adagrad)\n",
    "# (2.) loss function (e.g., mean squared error)\n",
    "# (3.) list of metrics (e.g., accuracy)\n",
    "\n",
    "model.compile(optimizer='rmsprop',\n",
    "             loss='categorical_crossentropy',\n",
    "             metrics=['accuracy'])"
   ]
  },
  {
   "cell_type": "markdown",
   "metadata": {},
   "source": [
    "### Training"
   ]
  },
  {
   "cell_type": "code",
   "execution_count": 48,
   "metadata": {
    "collapsed": false
   },
   "outputs": [
    {
     "name": "stdout",
     "output_type": "stream",
     "text": [
      "Epoch 1/10\n",
      "1000/1000 [==============================] - 0s - loss: 0.7302 - acc: 0.4960     \n",
      "Epoch 2/10\n",
      "1000/1000 [==============================] - 0s - loss: 0.7243 - acc: 0.5040     \n",
      "Epoch 3/10\n",
      "1000/1000 [==============================] - 0s - loss: 0.7073 - acc: 0.5300     \n",
      "Epoch 4/10\n",
      "1000/1000 [==============================] - 0s - loss: 0.7036 - acc: 0.5310     \n",
      "Epoch 5/10\n",
      "1000/1000 [==============================] - 0s - loss: 0.6897 - acc: 0.5530     \n",
      "Epoch 6/10\n",
      "1000/1000 [==============================] - 0s - loss: 0.6851 - acc: 0.5590     \n",
      "Epoch 7/10\n",
      "1000/1000 [==============================] - 0s - loss: 0.6786 - acc: 0.5890     \n",
      "Epoch 8/10\n",
      "1000/1000 [==============================] - 0s - loss: 0.6713 - acc: 0.5690     \n",
      "Epoch 9/10\n",
      "1000/1000 [==============================] - 0s - loss: 0.6684 - acc: 0.5900     \n",
      "Epoch 10/10\n",
      "1000/1000 [==============================] - 0s - loss: 0.6573 - acc: 0.5920     \n"
     ]
    },
    {
     "data": {
      "text/plain": [
       "<keras.callbacks.History at 0x11c08e750>"
      ]
     },
     "execution_count": 48,
     "metadata": {},
     "output_type": "execute_result"
    }
   ],
   "source": [
    "# Keras models are trained on Numpy arrays of input data and labels, typically with the 'fit' function. \n",
    "# Here is a standalone model with a binary output: \n",
    "\n",
    "model = Sequential()\n",
    "model.add(Dense(1, input_dim=784, activation='sigmoid'))\n",
    "model.compile(optimizer='rmsprop',\n",
    "              loss='binary_crossentropy',\n",
    "              metrics=['accuracy'])\n",
    "\n",
    "# generate dummy data\n",
    "import numpy as np\n",
    "data = np.random.random((1000, 784))\n",
    "labels = np.random.randint(2, size=(1000,1))\n",
    "\n",
    "# train the model, iterating on the data in batches of 32 samples\n",
    "model.fit(data, labels, nb_epoch=10, batch_size=32)"
   ]
  },
  {
   "cell_type": "code",
   "execution_count": 49,
   "metadata": {
    "collapsed": false
   },
   "outputs": [
    {
     "name": "stdout",
     "output_type": "stream",
     "text": [
      "Epoch 1/10\n",
      "1000/1000 [==============================] - 0s - loss: 2.9704 - acc: 0.0980     \n",
      "Epoch 2/10\n",
      "1000/1000 [==============================] - 0s - loss: 2.6440 - acc: 0.1120     \n",
      "Epoch 3/10\n",
      "1000/1000 [==============================] - 0s - loss: 2.4948 - acc: 0.1370     \n",
      "Epoch 4/10\n",
      "1000/1000 [==============================] - 0s - loss: 2.3542 - acc: 0.1890     \n",
      "Epoch 5/10\n",
      "1000/1000 [==============================] - 0s - loss: 2.2657 - acc: 0.2010     \n",
      "Epoch 6/10\n",
      "1000/1000 [==============================] - 0s - loss: 2.1394 - acc: 0.2280     \n",
      "Epoch 7/10\n",
      "1000/1000 [==============================] - 0s - loss: 2.0296 - acc: 0.2820     \n",
      "Epoch 8/10\n",
      "1000/1000 [==============================] - 0s - loss: 1.9632 - acc: 0.3130     \n",
      "Epoch 9/10\n",
      "1000/1000 [==============================] - 0s - loss: 1.8570 - acc: 0.3610     \n",
      "Epoch 10/10\n",
      "1000/1000 [==============================] - 0s - loss: 1.7846 - acc: 0.3850     \n"
     ]
    },
    {
     "data": {
      "text/plain": [
       "<keras.callbacks.History at 0x11d874f50>"
      ]
     },
     "execution_count": 49,
     "metadata": {},
     "output_type": "execute_result"
    }
   ],
   "source": [
    "# for a multi-input model with 10 classes:\n",
    "\n",
    "left_branch = Sequential()\n",
    "left_branch.add(Dense(32, input_dim=784))\n",
    "\n",
    "right_branch = Sequential()\n",
    "right_branch.add(Dense(32, input_dim=784))\n",
    "\n",
    "merged = Merge([left_branch, right_branch], mode='concat')\n",
    "\n",
    "model = Sequential()\n",
    "model.add(merged)\n",
    "model.add(Dense(10, activation='softmax'))\n",
    "\n",
    "model.compile(optimizer='rmsprop',\n",
    "              loss='categorical_crossentropy',\n",
    "              metrics=['accuracy'])\n",
    "\n",
    "# generate dummy data\n",
    "import numpy as np\n",
    "from keras.utils.np_utils import to_categorical\n",
    "data_1 = np.random.random((1000, 784))\n",
    "data_2 = np.random.random((1000, 784))\n",
    "\n",
    "# these are integers between 0 and 9\n",
    "labels = np.random.randint(10, size=(1000, 1))\n",
    "# we convert the labels to a binary matrix of size (1000, 10)\n",
    "# for use with categorical_crossentropy\n",
    "labels = to_categorical(labels, 10)\n",
    "\n",
    "# train the model\n",
    "# note that we are passing a list of Numpy arrays as training data\n",
    "# since the model has 2 inputs\n",
    "model.fit([data_1, data_2], labels, nb_epoch=10, batch_size=32)"
   ]
  },
  {
   "cell_type": "code",
   "execution_count": null,
   "metadata": {
    "collapsed": true
   },
   "outputs": [],
   "source": []
  }
 ],
 "metadata": {
  "kernelspec": {
   "display_name": "Python 2",
   "language": "python",
   "name": "python2"
  },
  "language_info": {
   "codemirror_mode": {
    "name": "ipython",
    "version": 2
   },
   "file_extension": ".py",
   "mimetype": "text/x-python",
   "name": "python",
   "nbconvert_exporter": "python",
   "pygments_lexer": "ipython2",
   "version": "2.7.8"
  }
 },
 "nbformat": 4,
 "nbformat_minor": 0
}
