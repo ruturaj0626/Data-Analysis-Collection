{
 "cells": [
  {
   "cell_type": "code",
   "execution_count": 1,
   "id": "cf633e05",
   "metadata": {},
   "outputs": [],
   "source": [
    "import numpy as np"
   ]
  },
  {
   "cell_type": "code",
   "execution_count": 2,
   "id": "24e29546",
   "metadata": {},
   "outputs": [
    {
     "name": "stdout",
     "output_type": "stream",
     "text": [
      "[1 2 3]\n",
      "\n",
      "\n",
      "[[1 1]\n",
      " [2 2]]\n"
     ]
    }
   ],
   "source": [
    "#let's build up an array \n",
    "#from here and below i'll use semicolons only in order to not forget to use them in C++ code \n",
    "\n",
    "arr = np.array((1, 2, 3));\n",
    "arr_ = np.array(((1, 1), (2, 2)));\n",
    "\n",
    "print(arr);\n",
    "print(\"\\n\");\n",
    "print(arr_);"
   ]
  },
  {
   "cell_type": "code",
   "execution_count": 3,
   "id": "9c1b1d83",
   "metadata": {},
   "outputs": [
    {
     "name": "stdout",
     "output_type": "stream",
     "text": [
      "int64\n",
      "(3,)\n",
      "24\n"
     ]
    }
   ],
   "source": [
    "#let's get the type of an array's elements \n",
    "print(arr.dtype); \n",
    "#other properties of array:\n",
    "# shape -> \n",
    "print(arr.shape);\n",
    "# nbytes -> \n",
    "print(arr.nbytes);"
   ]
  },
  {
   "cell_type": "code",
   "execution_count": 4,
   "id": "cf5963ac",
   "metadata": {},
   "outputs": [
    {
     "name": "stdout",
     "output_type": "stream",
     "text": [
      "[1 3 5 7 9]\n",
      "[0. 0. 0. 0. 0. 0. 0.]\n",
      "[1. 1. 1. 1. 1. 1. 1.]\n",
      "[ 0.          1.11111111  2.22222222  3.33333333  4.44444444  5.55555556\n",
      "  6.66666667  7.77777778  8.88888889 10.        ]\n",
      "[   1.            5.62341325   31.6227766   177.827941   1000.        ]\n"
     ]
    }
   ],
   "source": [
    "#let's fill arrays with some sort of data \n",
    "\n",
    "arr1 = np.arange(1, 10, 2); #from, to, step \n",
    "print(arr1);\n",
    "\n",
    "arr2 = np.zeros(7); #num of elements \n",
    "print(arr2);\n",
    "\n",
    "arr3 = np.ones(7); #num of elements \n",
    "print(arr3)\n",
    "\n",
    "arr4 = np.linspace(0, 10, 10); #kind a great way to do an interpolation #from, to, num of elements \n",
    "print(arr4);\n",
    "\n",
    "arr5 = np.logspace(0, 3, 5); #from, to, num of elements \n",
    "print(arr5);"
   ]
  },
  {
   "cell_type": "code",
   "execution_count": 5,
   "id": "54bc9aea",
   "metadata": {},
   "outputs": [
    {
     "name": "stdout",
     "output_type": "stream",
     "text": [
      "[3 3 3]\n",
      "[-1 -1 -1]\n",
      "[2 2 2]\n",
      "[0.5 0.5 0.5]\n"
     ]
    }
   ],
   "source": [
    "#operation via arrays (or operation with const and array)\n",
    "\n",
    "arr1 = np.array((1, 1, 1));\n",
    "arr2 = np.array((2, 2, 2));\n",
    "\n",
    "#sum \n",
    "print(arr1 + arr2); #each a[i] + b[i] \n",
    "#substraction \n",
    "print(arr1 - arr2); #each a[i] - b[i] \n",
    "#multiplication \n",
    "print(arr1 * arr2); #each a[i] * b[i] \n",
    "#division\n",
    "print(arr1 / arr2); #each a[i] / b[i] "
   ]
  },
  {
   "cell_type": "code",
   "execution_count": 6,
   "id": "d2374d05",
   "metadata": {},
   "outputs": [
    {
     "name": "stdout",
     "output_type": "stream",
     "text": [
      "[0.54030231 0.54030231 0.54030231]\n",
      "[False False False]\n"
     ]
    }
   ],
   "source": [
    "#also it's possible to use function for each element of array\n",
    "\n",
    "print(np.cos(arr1)); #each cos(a[i])\n",
    "#other functions:\n",
    "#sin\n",
    "#log\n",
    "\n",
    "#usage of true/false sentences \n",
    "print(arr1 > arr2);"
   ]
  },
  {
   "cell_type": "code",
   "execution_count": 7,
   "id": "e01ff2c7",
   "metadata": {},
   "outputs": [
    {
     "name": "stdout",
     "output_type": "stream",
     "text": [
      "False\n",
      "False\n"
     ]
    }
   ],
   "source": [
    "#∀ \n",
    "print(np.all(arr1 > arr2));\n",
    "\n",
    "\n",
    "#∃\n",
    "print(np.any(arr1 > arr2));"
   ]
  },
  {
   "cell_type": "code",
   "execution_count": 8,
   "id": "bcbf3910",
   "metadata": {},
   "outputs": [
    {
     "name": "stdout",
     "output_type": "stream",
     "text": [
      "inf\n",
      "2.718281828459045\n"
     ]
    }
   ],
   "source": [
    "#+- ∞\n",
    "print(np.inf);\n",
    "\n",
    "#pi/e\n",
    "print(np.e);"
   ]
  },
  {
   "cell_type": "code",
   "execution_count": 9,
   "id": "de7863f6",
   "metadata": {},
   "outputs": [
    {
     "name": "stdout",
     "output_type": "stream",
     "text": [
      "[1 2 3]\n",
      "[1 1 1]\n"
     ]
    }
   ],
   "source": [
    "#cumsum\n",
    "print(arr1.cumsum()); #a[i] = a[i-1] + a[i-2] + .... a[0]\n",
    "\n",
    "#sort \n",
    "print(np.sort(arr1));"
   ]
  },
  {
   "cell_type": "code",
   "execution_count": 10,
   "id": "ef03a4b1",
   "metadata": {},
   "outputs": [
    {
     "name": "stdout",
     "output_type": "stream",
     "text": [
      "[1 1 1 2 2 2]\n",
      "[array([1, 1, 1]), array([2, 2, 2])]\n",
      "[1 1 1 8]\n"
     ]
    }
   ],
   "source": [
    "#union of arrays:\n",
    "print(np.hstack((arr1, arr2)));\n",
    "\n",
    "#separation of arrays:\n",
    "print(np.hsplit(np.hstack((arr1, arr2)), 2));\n",
    "\n",
    "#append, delete and insert aren't inplace functions (so they doesn't change original arrray (!))\n",
    "print(np.insert(arr1, 3, 8));"
   ]
  },
  {
   "cell_type": "code",
   "execution_count": 11,
   "id": "897d2b34",
   "metadata": {},
   "outputs": [
    {
     "name": "stdout",
     "output_type": "stream",
     "text": [
      "[2]\n",
      "[1 1 1]\n"
     ]
    }
   ],
   "source": [
    "#spliting arrays\n",
    "print(arr[1:5:2]); #start:stop:step\n",
    "\n",
    "#reversed array \n",
    "print(arr1[::-1]);\n",
    "\n",
    "#These procedures do not create a new array, but only make a proper pointer. So if you change b = a[0:3], a will also be changed\n",
    "#to make copy\n",
    "b = arr1.copy();"
   ]
  },
  {
   "cell_type": "code",
   "execution_count": 12,
   "id": "388e4e72",
   "metadata": {},
   "outputs": [
    {
     "name": "stdout",
     "output_type": "stream",
     "text": [
      "[[1 0 0 0]\n",
      " [0 2 0 0]\n",
      " [0 0 3 0]\n",
      " [0 0 0 4]]\n",
      "[[1. 0. 0. 0.]\n",
      " [0. 1. 0. 0.]\n",
      " [0. 0. 1. 0.]\n",
      " [0. 0. 0. 1.]]\n",
      "4.0\n"
     ]
    }
   ],
   "source": [
    "#put array's elements into diagonal of new array\n",
    "arr1 = np.diag(np.arange(1, 5));\n",
    "print(arr1);\n",
    "\n",
    "#create identity matrix\n",
    "arr2 = np.eye(4);\n",
    "print(arr2);\n",
    "\n",
    "#trace computates sum of diagonal elements\n",
    "print(np.trace(arr2));"
   ]
  },
  {
   "cell_type": "code",
   "execution_count": 13,
   "id": "a1dd99dc",
   "metadata": {},
   "outputs": [
    {
     "name": "stdout",
     "output_type": "stream",
     "text": [
      "[[1. 0. 0. 0.]\n",
      " [0. 2. 0. 0.]\n",
      " [0. 0. 3. 0.]\n",
      " [0. 0. 0. 4.]]\n",
      "\n",
      "\n",
      "[ 0  1  2  3  4  5  6  7  8  9 10 11 12 13 14 15 16 17 18 19 20 21 22 23]\n",
      "\n",
      "\n",
      "[[ 0  1  2  3  4  5]\n",
      " [ 6  7  8  9 10 11]\n",
      " [12 13 14 15 16 17]\n",
      " [18 19 20 21 22 23]]\n",
      "[[[ 0  1  2]\n",
      "  [ 3  4  5]]\n",
      "\n",
      " [[ 6  7  8]\n",
      "  [ 9 10 11]]\n",
      "\n",
      " [[12 13 14]\n",
      "  [15 16 17]]\n",
      "\n",
      " [[18 19 20]\n",
      "  [21 22 23]]]\n"
     ]
    }
   ],
   "source": [
    "#matrix multiplication\n",
    "print(arr1 @ arr2);\n",
    "\n",
    "#matrix shape \n",
    "arr1 = np.arange(24);\n",
    "arr2 = arr1.reshape(4, 6);\n",
    "arr3 = arr2.reshape(4, 2, 3);\n",
    "\n",
    "print(\"\\n\");\n",
    "print(arr1);\n",
    "print(\"\\n\");\n",
    "print(arr2);\n",
    "print(arr3);"
   ]
  },
  {
   "cell_type": "code",
   "execution_count": 14,
   "id": "1c85e394",
   "metadata": {},
   "outputs": [
    {
     "name": "stdout",
     "output_type": "stream",
     "text": [
      "[[[ 0  1  2  3]\n",
      "  [ 4  5  6  7]]\n",
      "\n",
      " [[ 8  9 10 11]\n",
      "  [12 13 14 15]]\n",
      "\n",
      " [[16 17 18 19]\n",
      "  [20 21 22 23]]\n",
      "\n",
      " [[24 25 26 27]\n",
      "  [28 29 30 31]]\n",
      "\n",
      " [[32 33 34 35]\n",
      "  [36 37 38 39]]\n",
      "\n",
      " [[40 41 42 43]\n",
      "  [44 45 46 47]]\n",
      "\n",
      " [[48 49 50 51]\n",
      "  [52 53 54 55]]\n",
      "\n",
      " [[56 57 58 59]\n",
      "  [60 61 62 63]]]\n",
      "(8, 2, 4)\n",
      "[[224 232 240 248]\n",
      " [256 264 272 280]] \n",
      "\n"
     ]
    }
   ],
   "source": [
    "#Tensors \n",
    "Ten = np.arange(64).reshape(8, 2, 4);\n",
    "print(Ten);\n",
    "\n",
    "#Summation of Tensor's values \n",
    "print(Ten.shape);\n",
    "print(np.sum(Ten, axis = 0), \"\\n\"); #it leave 2*4 matrix"
   ]
  },
  {
   "cell_type": "code",
   "execution_count": 29,
   "id": "8023f9f7",
   "metadata": {},
   "outputs": [
    {
     "name": "stdout",
     "output_type": "stream",
     "text": [
      "4.0\n",
      "[[ 0.75 -0.25]\n",
      " [-0.5   0.5 ]]\n",
      "[[2 2]\n",
      " [1 3]]\n"
     ]
    }
   ],
   "source": [
    "#Elements of linear algebra\n",
    "Ten_2 = np.array(((2,1), (2, 3)));\n",
    "#Determinant\n",
    "print(np.linalg.det(Ten_2));\n",
    "\n",
    "#Inv\n",
    "print(np.linalg.inv(Ten_2));\n",
    "\n",
    "#Transporation \n",
    "print(Ten_2.T);"
   ]
  },
  {
   "cell_type": "markdown",
   "id": "9c986a88",
   "metadata": {},
   "source": [
    "### Solving system of linear equations\n",
    "$$\n",
    "    A \\cdot x=\\nu\n",
    "$$"
   ]
  },
  {
   "cell_type": "code",
   "execution_count": 17,
   "id": "da335e49",
   "metadata": {},
   "outputs": [
    {
     "name": "stdout",
     "output_type": "stream",
     "text": [
      "[ 6.25 -7.5 ]\n"
     ]
    }
   ],
   "source": [
    "a = np.array(((2,1), (2, 3)));\n",
    "v = np.array((5, -10));\n",
    "print(np.linalg.solve(a, v));"
   ]
  },
  {
   "cell_type": "markdown",
   "id": "f9c9cab9",
   "metadata": {},
   "source": [
    "### Searching the eigenvectors and eigenvalues\n",
    "$$\n",
    "A \\cdot x = \\lambda \\cdot x\n",
    "$$"
   ]
  },
  {
   "cell_type": "code",
   "execution_count": 30,
   "id": "32be28fb",
   "metadata": {},
   "outputs": [
    {
     "name": "stdout",
     "output_type": "stream",
     "text": [
      "[1. 4.]\n",
      "[-0.70710678 -0.4472136 ]\n",
      "[ 0.70710678 -0.89442719]\n"
     ]
    }
   ],
   "source": [
    "values, (vector1, vector2) = np.linalg.eig(a);\n",
    "print(values);\n",
    "print(vector1);\n",
    "print(vector2);"
   ]
  }
 ],
 "metadata": {
  "kernelspec": {
   "display_name": "Python 3.10.4 64-bit",
   "language": "python",
   "name": "python3"
  },
  "language_info": {
   "codemirror_mode": {
    "name": "ipython",
    "version": 3
   },
   "file_extension": ".py",
   "mimetype": "text/x-python",
   "name": "python",
   "nbconvert_exporter": "python",
   "pygments_lexer": "ipython3",
   "version": "3.10.4"
  },
  "vscode": {
   "interpreter": {
    "hash": "916dbcbb3f70747c44a77c7bcd40155683ae19c65e1c03b4aa3499c5328201f1"
   }
  }
 },
 "nbformat": 4,
 "nbformat_minor": 5
}
